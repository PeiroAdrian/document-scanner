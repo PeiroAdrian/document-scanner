{
 "cells": [
  {
   "cell_type": "code",
   "execution_count": 13,
   "id": "65646af8-bbcb-44b4-a20e-90c86164bb13",
   "metadata": {},
   "outputs": [],
   "source": [
    "import cv2\n",
    "import predictions as pred"
   ]
  },
  {
   "cell_type": "code",
   "execution_count": 18,
   "id": "4bcc339d-8656-4358-b3a1-5eeed157e132",
   "metadata": {},
   "outputs": [],
   "source": [
    "img = cv2.imread('./data/242.jpeg')\n",
    "\n",
    "cv2.namedWindow('original',cv2.WINDOW_NORMAL)\n",
    "cv2.imshow('original', img)\n",
    "cv2.waitKey(0)\n",
    "cv2.destroyAllWindows()"
   ]
  },
  {
   "cell_type": "code",
   "execution_count": 19,
   "id": "66330ffa-ed4f-4a8e-bf6f-a0a9e76cddc7",
   "metadata": {},
   "outputs": [
    {
     "name": "stdout",
     "output_type": "stream",
     "text": [
      "dr. t. s. reddy senior consultant traffic transportation lea associates south asia pvt. ltd. leadership in consulting engineers planners engineering hl no 1-4-879/54/1a, street no. 8, p lannin g near vijaya bank, lower tank bund, gandhinagar, hyderabad-500080 a.p. india solutions tel 91-40-66747 122 / 66747135 . mobile 91-91778 82230 email tsr@lasaindia.com ————— limmappagari@ymait.com _ alea group company website - www.lasaindia.com\n",
      "{'NAME': ['Dr T S Reddy'], 'ORG': ['Lea Associates South Asia Pvt Ltd'], 'DES': ['Senior Consultant'], 'PHONE': ['91', '66747135', '9182230'], 'EMAIL': ['tsr@lasaindia.com', 'limmappagari@ymait.com'], 'WEB': ['www.lasaindia.com']}\n"
     ]
    }
   ],
   "source": [
    "img_results, entities = pred.getPredictions(img)\n",
    "\n",
    "print(entities)\n",
    "cv2.namedWindow('predictions',cv2.WINDOW_NORMAL)\n",
    "cv2.imshow('predictions',img_results)\n",
    "cv2.waitKey(0)\n",
    "cv2.destroyAllWindows()"
   ]
  },
  {
   "cell_type": "code",
   "execution_count": null,
   "id": "9984d4cc-2a79-4791-8997-0bb3c5cec227",
   "metadata": {},
   "outputs": [],
   "source": []
  }
 ],
 "metadata": {
  "kernelspec": {
   "display_name": "Python 3 (ipykernel)",
   "language": "python",
   "name": "python3"
  },
  "language_info": {
   "codemirror_mode": {
    "name": "ipython",
    "version": 3
   },
   "file_extension": ".py",
   "mimetype": "text/x-python",
   "name": "python",
   "nbconvert_exporter": "python",
   "pygments_lexer": "ipython3",
   "version": "3.12.0"
  }
 },
 "nbformat": 4,
 "nbformat_minor": 5
}
