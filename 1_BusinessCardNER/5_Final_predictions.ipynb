{
 "cells": [
  {
   "cell_type": "code",
   "execution_count": 3,
   "id": "53ca97fe-07b3-47c7-82c9-1e5487cef031",
   "metadata": {},
   "outputs": [],
   "source": [
    "import cv2\n",
    "import predictions as pred"
   ]
  },
  {
   "cell_type": "code",
   "execution_count": 13,
   "id": "fbf87467-bcb1-4441-8661-f80969528bec",
   "metadata": {},
   "outputs": [],
   "source": [
    "img = cv2.imread('./data/54.jpg')\n",
    "\n",
    "cv2.namedWindow('original',cv2.WINDOW_NORMAL)\n",
    "cv2.imshow('original', img)\n",
    "cv2.waitKey(0)\n",
    "cv2.destroyAllWindows()"
   ]
  },
  {
   "cell_type": "code",
   "execution_count": 14,
   "id": "5232cf88-2372-43f0-99bf-12cdffcbcbeb",
   "metadata": {},
   "outputs": [
    {
     "name": "stdout",
     "output_type": "stream",
     "text": [
      "stanford stanford @ medicine cardiovascular institute joseph c. wu, md, phd director, stanford cardiovascular institute professor medicine cardiology radiology 265 campus drive, g-1120b re 650 736-2246 stanford, ca 94305, mc-5454 http//wulab.stanford.edu joewu@stanford.edu http//evistanford.edu\n",
      "{'NAME': ['Joseph C Wu Md'], 'ORG': [' Medicine Cardiovascular Institute'], 'DES': ['Phd', 'Director'], 'PHONE': ['650736'], 'EMAIL': ['joewu@stanford.edu'], 'WEB': ['http//wulab.stanford.edu']}\n"
     ]
    }
   ],
   "source": [
    "img_results, entitites = pred.getPredictions(img)\n",
    "\n",
    "print(entitites)\n",
    "cv2.namedWindow('predictions', cv2.WINDOW_NORMAL)\n",
    "cv2.imshow('predictions', img_results)\n",
    "cv2.waitKey(0)\n",
    "cv2.destroyAllWindows()"
   ]
  },
  {
   "cell_type": "code",
   "execution_count": null,
   "id": "bf838516-eca0-4a48-88e0-79f2a2b55d1c",
   "metadata": {},
   "outputs": [],
   "source": []
  },
  {
   "cell_type": "code",
   "execution_count": null,
   "id": "d86d09dd-23b8-43fd-a8be-ba4548e48fbb",
   "metadata": {},
   "outputs": [],
   "source": []
  }
 ],
 "metadata": {
  "kernelspec": {
   "display_name": "Python 3 (ipykernel)",
   "language": "python",
   "name": "python3"
  },
  "language_info": {
   "codemirror_mode": {
    "name": "ipython",
    "version": 3
   },
   "file_extension": ".py",
   "mimetype": "text/x-python",
   "name": "python",
   "nbconvert_exporter": "python",
   "pygments_lexer": "ipython3",
   "version": "3.12.0"
  }
 },
 "nbformat": 4,
 "nbformat_minor": 5
}
